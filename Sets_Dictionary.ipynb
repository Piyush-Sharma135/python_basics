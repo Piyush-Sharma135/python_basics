{
 "cells": [
  {
   "attachments": {},
   "cell_type": "markdown",
   "metadata": {},
   "source": [
    "# SETS\n",
    "- No Duplicates allowed eg storing Aadhar no. If duplicates are added, it keeps only 1 copy\n",
    "- Mutable i.e elements can be added or removed\n",
    "- Order is not preserved\n",
    "- Allows Hetrogenous dtypes. \n",
    "- Can store tuple in a set but NOT LIST because Set works on the concept of hashing\n",
    "- { } used to initalize set"
   ]
  },
  {
   "cell_type": "code",
   "execution_count": 1,
   "metadata": {},
   "outputs": [
    {
     "name": "stdout",
     "output_type": "stream",
     "text": [
      "{40, 10, 20, 30}\n",
      "{1, 2, 3, 4, 5}\n"
     ]
    }
   ],
   "source": [
    "lst = [10,20,30,40,10,10,20]\n",
    "st = set(lst)\n",
    "print(st)\n",
    "print(set([1,2,3,4,5]))\n",
    "\n",
    "# In DS we can convert duplicates to unique by storing data in set"
   ]
  },
  {
   "cell_type": "code",
   "execution_count": 2,
   "metadata": {},
   "outputs": [
    {
     "name": "stdout",
     "output_type": "stream",
     "text": [
      "{0, 1, 2, 3, 4}\n"
     ]
    }
   ],
   "source": [
    "st = set(range(5))\n",
    "print(st)"
   ]
  },
  {
   "cell_type": "code",
   "execution_count": 3,
   "metadata": {},
   "outputs": [
    {
     "name": "stdout",
     "output_type": "stream",
     "text": [
      "<class 'set'>\n",
      "<class 'dict'>\n",
      "set()\n",
      "<class 'set'>\n"
     ]
    }
   ],
   "source": [
    "st = {10,20,30}\n",
    "print(type(st))\n",
    "\n",
    "# Empty braces treated as Dictionary\n",
    "st1 = {}\n",
    "print(type(st1))\n",
    "\n",
    "# To create empty set\n",
    "st = set()\n",
    "print(st)\n",
    "print(type(st))"
   ]
  },
  {
   "cell_type": "code",
   "execution_count": 4,
   "metadata": {},
   "outputs": [
    {
     "name": "stdout",
     "output_type": "stream",
     "text": [
      "{1, 2, 3, 20, 50, 10, 30}\n"
     ]
    }
   ],
   "source": [
    "st = {20,30,10}\n",
    "st.update({1,2,3},[10,20,50])\n",
    "print(st)"
   ]
  },
  {
   "cell_type": "code",
   "execution_count": 5,
   "metadata": {},
   "outputs": [
    {
     "name": "stdout",
     "output_type": "stream",
     "text": [
      "{10, 20, 30}\n"
     ]
    }
   ],
   "source": [
    "# Ading elements\n",
    "st1 = set()\n",
    "st1.add(10)\n",
    "st1.add(20)\n",
    "st1.add(30)\n",
    "\n",
    "print(st1)"
   ]
  },
  {
   "cell_type": "code",
   "execution_count": 6,
   "metadata": {},
   "outputs": [
    {
     "name": "stdout",
     "output_type": "stream",
     "text": [
      "{10, 20, 30}\n",
      "{10, 20, 30}\n",
      "139981446744992\n",
      "139981446744992\n"
     ]
    }
   ],
   "source": [
    "st1 = {20,30,10}\n",
    "st2 = st1\n",
    "print(st1)\n",
    "print(st2)\n",
    "print(id(st1))\n",
    "print(id(st2))\n",
    "\n",
    "# we can write\n",
    "st2 = st1.copy()"
   ]
  },
  {
   "cell_type": "code",
   "execution_count": 7,
   "metadata": {},
   "outputs": [
    {
     "name": "stdout",
     "output_type": "stream",
     "text": [
      "{50, 20, 40, 10, 30}\n",
      "50\n"
     ]
    }
   ],
   "source": [
    "# POP will give random value\n",
    "\n",
    "st1 = {20,30,10,40,50,10}\n",
    "print(st1)\n",
    "print(st1.pop())"
   ]
  },
  {
   "cell_type": "code",
   "execution_count": 8,
   "metadata": {},
   "outputs": [
    {
     "name": "stdout",
     "output_type": "stream",
     "text": [
      "{50, 20, 40, 10}\n",
      "{50, 20, 40, 10}\n"
     ]
    }
   ],
   "source": [
    "st1 = {20,30,10,40,50,10}\n",
    "st1.remove(30)\n",
    "print(st1)\n",
    "\n",
    "# st1.remove(100) gives error. To avoid error use . discard()\n",
    "\n",
    "st1.discard(100)\n",
    "print(st1)\n"
   ]
  },
  {
   "cell_type": "code",
   "execution_count": 9,
   "metadata": {},
   "outputs": [
    {
     "name": "stdout",
     "output_type": "stream",
     "text": [
      "False\n",
      "True\n",
      "{1, 2, 3}\n",
      "{3}\n"
     ]
    }
   ],
   "source": [
    "# Check for subset\n",
    "\n",
    "st1 ={1,2,3}\n",
    "st2= {3,4,5}\n",
    "st3= {1,2,3,4,5,6,7}\n",
    "print(st1.issubset(st2))\n",
    "\n",
    "# All elements should be common to return TRUE\n",
    "print(st1.issubset(st3))\n",
    "\n",
    "# Union and Intersection\n",
    "print(st1.union(st1))\n",
    "print(st1.intersection(st2))"
   ]
  },
  {
   "cell_type": "code",
   "execution_count": 10,
   "metadata": {},
   "outputs": [
    {
     "name": "stdout",
     "output_type": "stream",
     "text": [
      "True\n",
      "True\n",
      "False\n"
     ]
    }
   ],
   "source": [
    "# The < and > operators are used for testing for strict subsets\n",
    "\n",
    "a ={1,2,3}\n",
    "b ={1,2,3,4,5,6}\n",
    "c ={2,5,6}\n",
    "print(b >a)\n",
    "print(c<b)\n",
    "print(a==b)"
   ]
  },
  {
   "cell_type": "code",
   "execution_count": 11,
   "metadata": {},
   "outputs": [
    {
     "name": "stdout",
     "output_type": "stream",
     "text": [
      "{4, 5, 6, 7}\n",
      "{4, 5}\n",
      "{1, 2, 6, 7}\n",
      "{1, 2, 6, 7}\n"
     ]
    }
   ],
   "source": [
    "# Difference gives all elements in st3 that are not in st1\n",
    "print(st3-st1)\n",
    "print(st2.difference(st1))\n",
    "\n",
    "# Getting common elements from st1 and st2 except common elements\n",
    "# We use Symmetric Difference\n",
    "print(st3.symmetric_difference(st2))\n",
    "print(st3 ^ st2)"
   ]
  },
  {
   "cell_type": "code",
   "execution_count": 12,
   "metadata": {},
   "outputs": [
    {
     "name": "stdout",
     "output_type": "stream",
     "text": [
      "{0, 1, 64, 4, 36, 9, 16, 49, 81, 25}\n"
     ]
    }
   ],
   "source": [
    "# SET Comprehension\n",
    "st = {x**2 for x in range(10)}\n",
    "print(st)"
   ]
  },
  {
   "attachments": {},
   "cell_type": "markdown",
   "metadata": {},
   "source": [
    "# DICTIONARY\n",
    "- dict = {key1 : value1,\n",
    "          key2 : value2}\n",
    "- Just like there cant be 2 keys for 1 vehicle we cant have duplicate keys in a dictionary\n",
    "- Values can be duplicate\n",
    "- Hetrogenous Dtype allowed for keys and vlaues\n",
    "- Can access value from key but not vice versa\n",
    "\n",
    "- If K:V pairs are same across dictionaries (irrespective of order) then D1==D2 results TRUE"
   ]
  },
  {
   "cell_type": "code",
   "execution_count": 13,
   "metadata": {},
   "outputs": [
    {
     "data": {
      "text/plain": [
       "'Hello'"
      ]
     },
     "execution_count": 13,
     "metadata": {},
     "output_type": "execute_result"
    }
   ],
   "source": [
    "test = {1:\"Hello\",\n",
    "2: \"World\"}\n",
    "\n",
    "test[1]"
   ]
  },
  {
   "cell_type": "code",
   "execution_count": 14,
   "metadata": {},
   "outputs": [
    {
     "data": {
      "text/plain": [
       "dict_items([(1, 'Hello'), (2, 'World')])"
      ]
     },
     "execution_count": 14,
     "metadata": {},
     "output_type": "execute_result"
    }
   ],
   "source": [
    "test.items()"
   ]
  },
  {
   "cell_type": "code",
   "execution_count": 15,
   "metadata": {},
   "outputs": [
    {
     "data": {
      "text/plain": [
       "'Hello'"
      ]
     },
     "execution_count": 15,
     "metadata": {},
     "output_type": "execute_result"
    }
   ],
   "source": [
    "test = {\n",
    "    \"a\":\"Hello\",\n",
    "    \"b\" : \"World\",\n",
    "    \"c\" : \"Everyone\"}\n",
    "test[\"a\"]"
   ]
  },
  {
   "cell_type": "code",
   "execution_count": 16,
   "metadata": {},
   "outputs": [
    {
     "name": "stdout",
     "output_type": "stream",
     "text": [
      "Hello\n",
      "123\n"
     ]
    }
   ],
   "source": [
    "test = {\n",
    "    \"a\":\"Hello\",\n",
    "    \"b\" : \"World\",\n",
    "    3.45 : 123,\n",
    "    4 : \"Hello\"}\n",
    "\n",
    "print(test[4])\n",
    "print(test[3.45])"
   ]
  },
  {
   "cell_type": "code",
   "execution_count": 17,
   "metadata": {},
   "outputs": [
    {
     "data": {
      "text/plain": [
       "{'a': 'Hello', 'b': 'World', 3.45: 123, 4: 'Hello', 'Address': 'India'}"
      ]
     },
     "execution_count": 17,
     "metadata": {},
     "output_type": "execute_result"
    }
   ],
   "source": [
    "# Adding new K-V pair\n",
    "test[\"Address\"] = \"India\"\n",
    "test"
   ]
  },
  {
   "cell_type": "code",
   "execution_count": 18,
   "metadata": {},
   "outputs": [
    {
     "name": "stdout",
     "output_type": "stream",
     "text": [
      "dict_keys(['a', 'b', 3.45, 4, 'Address'])\n",
      "<class 'dict_keys'>\n"
     ]
    }
   ],
   "source": [
    "# List down keys and Values\n",
    "print(test.keys())\n",
    "print(type(test.keys()))\n",
    "# print(sorted(test))  SORTS KEYS but here it wont work as dtype is mixed of int and str"
   ]
  },
  {
   "cell_type": "code",
   "execution_count": 19,
   "metadata": {},
   "outputs": [
    {
     "data": {
      "text/plain": [
       "dict_values(['Hello', 'World', 123, 'Hello', 'India'])"
      ]
     },
     "execution_count": 19,
     "metadata": {},
     "output_type": "execute_result"
    }
   ],
   "source": [
    "test.values()"
   ]
  },
  {
   "cell_type": "code",
   "execution_count": 20,
   "metadata": {},
   "outputs": [
    {
     "name": "stdout",
     "output_type": "stream",
     "text": [
      "True\n",
      "True\n"
     ]
    }
   ],
   "source": [
    "print('a' in test) # checks in keys\n",
    "print('d' not in test)"
   ]
  },
  {
   "cell_type": "code",
   "execution_count": 21,
   "metadata": {},
   "outputs": [
    {
     "name": "stdout",
     "output_type": "stream",
     "text": [
      "{0: 0, 1: 1, 2: 8, 3: 27, 4: 64, 5: 125, 6: 216, 7: 343, 8: 512, 9: 729}\n"
     ]
    }
   ],
   "source": [
    "# Generating Dict Comprehension\n",
    "cubes = {x:x**3 for x in range(10)}\n",
    "print(cubes)"
   ]
  },
  {
   "cell_type": "code",
   "execution_count": 22,
   "metadata": {},
   "outputs": [
    {
     "name": "stdout",
     "output_type": "stream",
     "text": [
      "The key a has a value Hello\n",
      "The key b has a value World\n",
      "The key 3.45 has a value 123\n",
      "The key 4 has a value Hello\n",
      "The key Address has a value India\n"
     ]
    }
   ],
   "source": [
    "# like a LIST , we can iterate over list of dictonary keys\n",
    "for k in test.keys():\n",
    "    print(f\"The key {k} has a value {test[k]}\")"
   ]
  },
  {
   "cell_type": "code",
   "execution_count": 23,
   "metadata": {},
   "outputs": [
    {
     "name": "stdout",
     "output_type": "stream",
     "text": [
      "a Hello\n",
      "b World\n",
      "3.45 123\n",
      "4 Hello\n",
      "Address India\n"
     ]
    }
   ],
   "source": [
    "for k,v in test.items():\n",
    "    print(k,v)"
   ]
  },
  {
   "cell_type": "code",
   "execution_count": 24,
   "metadata": {},
   "outputs": [
    {
     "name": "stdout",
     "output_type": "stream",
     "text": [
      "Not Available\n"
     ]
    },
    {
     "data": {
      "text/plain": [
       "'Not Available'"
      ]
     },
     "execution_count": 24,
     "metadata": {},
     "output_type": "execute_result"
    }
   ],
   "source": [
    "if \"address\" not in test.keys():\n",
    "    print(\"Not Available\")\n",
    "\n",
    "# Similar results using get()\n",
    "test.get(\"address\", \"Not Available\")"
   ]
  },
  {
   "cell_type": "code",
   "execution_count": 25,
   "metadata": {},
   "outputs": [
    {
     "data": {
      "text/plain": [
       "{'a': 'Hello', 'b': 'World', 4: 'Hello', 'Address': 'India'}"
      ]
     },
     "execution_count": 25,
     "metadata": {},
     "output_type": "execute_result"
    }
   ],
   "source": [
    "del test[3.45]\n",
    "test"
   ]
  },
  {
   "cell_type": "code",
   "execution_count": 26,
   "metadata": {},
   "outputs": [
    {
     "data": {
      "text/plain": [
       "{'AirIndia': {'Source': 'Delhi',\n",
       "  'Destination': 'London',\n",
       "  'Date': '01-01-2023',\n",
       "  'Price': 10000,\n",
       "  'Departure': 1300,\n",
       "  'Arrival': 1800},\n",
       " 'AirAsia': {'Source': 'Delhi',\n",
       "  'Destination': 'London',\n",
       "  'Date': '01-01-2023',\n",
       "  'Price': 15000,\n",
       "  'Departure': 1300,\n",
       "  'Arrival': 1830},\n",
       " 'SpiceJet': {'Source': 'Delhi',\n",
       "  'Destination': 'London',\n",
       "  'Date': '01-01-2023',\n",
       "  'Price': 13000,\n",
       "  'Departure': 1400,\n",
       "  'Arrival': 1800}}"
      ]
     },
     "execution_count": 26,
     "metadata": {},
     "output_type": "execute_result"
    }
   ],
   "source": [
    "# API calls involves handling JSON files\n",
    "# JSON stores data in form of key:value pairs\n",
    "\n",
    "FlightsFromAirIndia = {\n",
    "    'Source': 'Delhi',\n",
    "    'Destination' : 'London',\n",
    "    'Date' : '01-01-2023',\n",
    "    'Price' : 10000,\n",
    "    'Departure' : 1300,\n",
    "    'Arrival' : 1800\n",
    "    }\n",
    "\n",
    "FlightsFromAirAsia = {\n",
    "    'Source': 'Delhi',\n",
    "    'Destination' : 'London',\n",
    "    'Date' : '01-01-2023',\n",
    "    'Price' : 15000,\n",
    "    'Departure' : 1300,\n",
    "    'Arrival' : 1830\n",
    "    }\n",
    "\n",
    "FlightsFromSpiceJet = {\n",
    "    'Source': 'Delhi',\n",
    "    'Destination' : 'London',\n",
    "    'Date' : '01-01-2023',\n",
    "    'Price' : 13000,\n",
    "    'Departure' : 1400,\n",
    "    'Arrival' : 1800\n",
    "    }\n",
    "\n",
    "GoIbiboFlight = {\n",
    "    'AirIndia' : FlightsFromAirIndia,\n",
    "    'AirAsia' : FlightsFromAirAsia,\n",
    "    'SpiceJet' : FlightsFromSpiceJet\n",
    "}\n",
    "\n",
    "GoIbiboFlight"
   ]
  },
  {
   "cell_type": "code",
   "execution_count": 27,
   "metadata": {},
   "outputs": [
    {
     "data": {
      "text/plain": [
       "{'AirIndia': {'Flight1_A304': {'Source': 'Delhi',\n",
       "   'Destination': 'London',\n",
       "   'Date': '01-01-2023',\n",
       "   'Price': 10000,\n",
       "   'Departure': 1300,\n",
       "   'Arrival': 1800},\n",
       "  'Flight2_A304': {'Source': 'Mumbai',\n",
       "   'Destination': 'London',\n",
       "   'Date': '01-01-2023',\n",
       "   'Price': 17000,\n",
       "   'Departure': 1500,\n",
       "   'Arrival': 2000}},\n",
       " 'AirAsia': {'Source': 'Delhi',\n",
       "  'Destination': 'London',\n",
       "  'Date': '01-01-2023',\n",
       "  'Price': 15000,\n",
       "  'Departure': 1300,\n",
       "  'Arrival': 1830},\n",
       " 'SpiceJet': {'Source': 'Delhi',\n",
       "  'Destination': 'London',\n",
       "  'Date': '01-01-2023',\n",
       "  'Price': 13000,\n",
       "  'Departure': 1400,\n",
       "  'Arrival': 1800}}"
      ]
     },
     "execution_count": 27,
     "metadata": {},
     "output_type": "execute_result"
    }
   ],
   "source": [
    "# Air India could have 2 flights\n",
    "\n",
    "FlightsFromAirIndia = {\n",
    "    'Flight1_A304' : {\n",
    "                    'Source': 'Delhi',\n",
    "                    'Destination' : 'London',\n",
    "                    'Date' : '01-01-2023',\n",
    "                    'Price' : 10000,\n",
    "                    'Departure' : 1300,\n",
    "                    'Arrival' : 1800},\n",
    "    'Flight2_A304' : {\n",
    "                    'Source': 'Mumbai',\n",
    "                    'Destination' : 'London',\n",
    "                    'Date' : '01-01-2023',\n",
    "                    'Price' : 17000,\n",
    "                    'Departure' : 1500,\n",
    "                    'Arrival' : 2000\n",
    "    }\n",
    "                    }\n",
    "\n",
    "FlightsFromAirAsia = {\n",
    "    'Source': 'Delhi',\n",
    "    'Destination' : 'London',\n",
    "    'Date' : '01-01-2023',\n",
    "    'Price' : 15000,\n",
    "    'Departure' : 1300,\n",
    "    'Arrival' : 1830\n",
    "    }\n",
    "\n",
    "FlightsFromSpiceJet = {\n",
    "    'Source': 'Delhi',\n",
    "    'Destination' : 'London',\n",
    "    'Date' : '01-01-2023',\n",
    "    'Price' : 13000,\n",
    "    'Departure' : 1400,\n",
    "    'Arrival' : 1800\n",
    "    }\n",
    "\n",
    "GoIbiboFlight = {\n",
    "    'AirIndia' : FlightsFromAirIndia,\n",
    "    'AirAsia' : FlightsFromAirAsia,\n",
    "    'SpiceJet' : FlightsFromSpiceJet\n",
    "}\n",
    "\n",
    "GoIbiboFlight"
   ]
  },
  {
   "attachments": {},
   "cell_type": "markdown",
   "metadata": {},
   "source": [
    "Copy outup and past into http://jsonviewer.stack.hu/ . Check viewer to see Dictionary tree"
   ]
  },
  {
   "cell_type": "code",
   "execution_count": 28,
   "metadata": {},
   "outputs": [
    {
     "data": {
      "text/plain": [
       "{}"
      ]
     },
     "execution_count": 28,
     "metadata": {},
     "output_type": "execute_result"
    }
   ],
   "source": [
    "GoIbiboFlight.clear()\n",
    "GoIbiboFlight"
   ]
  },
  {
   "cell_type": "code",
   "execution_count": 29,
   "metadata": {},
   "outputs": [
    {
     "data": {
      "text/plain": [
       "10000"
      ]
     },
     "execution_count": 29,
     "metadata": {},
     "output_type": "execute_result"
    }
   ],
   "source": [
    "# Accessing Price of AirIndia Flight 1 A304\n",
    "FlightsFromAirIndia['Flight1_A304']['Price']"
   ]
  },
  {
   "cell_type": "code",
   "execution_count": 30,
   "metadata": {},
   "outputs": [
    {
     "name": "stdout",
     "output_type": "stream",
     "text": [
      "{'a': 'Hello', 'b': 'World', 4: 'Hello', 'Address': 'India'}\n"
     ]
    }
   ],
   "source": [
    "print(test)"
   ]
  },
  {
   "cell_type": "code",
   "execution_count": 31,
   "metadata": {},
   "outputs": [
    {
     "name": "stdout",
     "output_type": "stream",
     "text": [
      "{'b': 'World', 4: 'Hello', 'Address': 'India'}\n"
     ]
    }
   ],
   "source": [
    "# test.pop() gives error\n",
    "# Unlike list pop must have some KEY as an argument\n",
    "test.pop('a')\n",
    "print(test)"
   ]
  },
  {
   "cell_type": "code",
   "execution_count": 32,
   "metadata": {},
   "outputs": [
    {
     "data": {
      "text/plain": [
       "('Address', 'India')"
      ]
     },
     "execution_count": 32,
     "metadata": {},
     "output_type": "execute_result"
    }
   ],
   "source": [
    "test.popitem() # removes random value"
   ]
  },
  {
   "cell_type": "code",
   "execution_count": 33,
   "metadata": {},
   "outputs": [
    {
     "name": "stdout",
     "output_type": "stream",
     "text": [
      "4\n"
     ]
    }
   ],
   "source": [
    "a = {}\n",
    "a[1] = 1\n",
    "a['1'] = 2\n",
    "a[1] = a[1] + 1 # dict = {1:2, '1' : 2}\n",
    "count = 0 \n",
    "for i in a:\n",
    "    count+= a[i] \n",
    "    # count = 0 + a[1] = 2 \n",
    "    # count = count + a['1'] = 2+2 = 4\n",
    "print(count)"
   ]
  }
 ],
 "metadata": {
  "kernelspec": {
   "display_name": "Python 3",
   "language": "python",
   "name": "python3"
  },
  "language_info": {
   "codemirror_mode": {
    "name": "ipython",
    "version": 3
   },
   "file_extension": ".py",
   "mimetype": "text/x-python",
   "name": "python",
   "nbconvert_exporter": "python",
   "pygments_lexer": "ipython3",
   "version": "3.9.2"
  },
  "orig_nbformat": 4,
  "vscode": {
   "interpreter": {
    "hash": "916dbcbb3f70747c44a77c7bcd40155683ae19c65e1c03b4aa3499c5328201f1"
   }
  }
 },
 "nbformat": 4,
 "nbformat_minor": 2
}
