{
 "cells": [
  {
   "cell_type": "markdown",
   "metadata": {},
   "source": [
    "# Variables"
   ]
  },
  {
   "attachments": {},
   "cell_type": "markdown",
   "metadata": {},
   "source": [
    "Variable Declaration Rules\n",
    "\n",
    "- Variable Naming Rules\n",
    "- No spaces are allowed.\n",
    "- The first character must be a letter (lowercase or uppercase) or an underscore.\n",
    "- Only letters, numbers and underscores are permitted after the first character.\n",
    "- Variable names are case-sensitive. ​name​ and ​Name​ are two distinct, separate variables"
   ]
  },
  {
   "cell_type": "code",
   "execution_count": 1,
   "metadata": {},
   "outputs": [
    {
     "name": "stdout",
     "output_type": "stream",
     "text": [
      "My name is Sam and I am 27 years old.\n"
     ]
    }
   ],
   "source": [
    "# Everything in Python is an object. \n",
    "# Variable is jsut a name assigned to an object\n",
    "\n",
    "name = \"Sam\"\n",
    "age = 28\n",
    "print(\"My name is\",name, \"and I am\", age-1, \"years old.\")"
   ]
  },
  {
   "cell_type": "code",
   "execution_count": 2,
   "metadata": {},
   "outputs": [
    {
     "name": "stdout",
     "output_type": "stream",
     "text": [
      "5\n",
      "String\n",
      "True\n"
     ]
    }
   ],
   "source": [
    "# DYNAMIC DECLARATION\n",
    "a = 5\n",
    "print(a)\n",
    "a=\"String\"\n",
    "print(a)\n",
    "a=True\n",
    "print(a)"
   ]
  },
  {
   "attachments": {},
   "cell_type": "markdown",
   "metadata": {},
   "source": [
    "# OPERATORS"
   ]
  },
  {
   "cell_type": "code",
   "execution_count": 3,
   "metadata": {},
   "outputs": [
    {
     "name": "stdout",
     "output_type": "stream",
     "text": [
      "Piyush from PW working as MIS Analyst has a salary of Rs27500\n"
     ]
    }
   ],
   "source": [
    "Name = input(\"Employee Name : \")\n",
    "Company = input(\"Company Nmae: \")\n",
    "Salary = input(\"Salary : \")\n",
    "Designation = input(\"Designation : \")\n",
    "Remark = (\"Pay Band-A \")\n",
    "Incremented_Salary = int(1.1*int(Salary))\n",
    "print(f\"{Name} from {Company} working as {Designation} has a salary of Rs{Incremented_Salary}\" )"
   ]
  },
  {
   "cell_type": "code",
   "execution_count": 4,
   "metadata": {},
   "outputs": [
    {
     "data": {
      "text/plain": [
       "2"
      ]
     },
     "execution_count": 4,
     "metadata": {},
     "output_type": "execute_result"
    }
   ],
   "source": [
    "#Floor Division\n",
    "# Returns Integer\n",
    "10//4"
   ]
  },
  {
   "cell_type": "code",
   "execution_count": 5,
   "metadata": {},
   "outputs": [
    {
     "data": {
      "text/plain": [
       "1.8"
      ]
     },
     "execution_count": 5,
     "metadata": {},
     "output_type": "execute_result"
    }
   ],
   "source": [
    "# Division returns FLOAT\n",
    "18/10\n"
   ]
  },
  {
   "cell_type": "code",
   "execution_count": 6,
   "metadata": {},
   "outputs": [
    {
     "data": {
      "text/plain": [
       "2.0"
      ]
     },
     "execution_count": 6,
     "metadata": {},
     "output_type": "execute_result"
    }
   ],
   "source": [
    "8/4"
   ]
  },
  {
   "cell_type": "code",
   "execution_count": 7,
   "metadata": {},
   "outputs": [
    {
     "data": {
      "text/plain": [
       "1"
      ]
     },
     "execution_count": 7,
     "metadata": {},
     "output_type": "execute_result"
    }
   ],
   "source": [
    "# Modulo or Remainder Operation\n",
    "1%3"
   ]
  },
  {
   "cell_type": "code",
   "execution_count": 8,
   "metadata": {},
   "outputs": [
    {
     "data": {
      "text/plain": [
       "1"
      ]
     },
     "execution_count": 8,
     "metadata": {},
     "output_type": "execute_result"
    }
   ],
   "source": [
    "10%3"
   ]
  },
  {
   "cell_type": "code",
   "execution_count": 9,
   "metadata": {},
   "outputs": [
    {
     "data": {
      "text/plain": [
       "1.0"
      ]
     },
     "execution_count": 9,
     "metadata": {},
     "output_type": "execute_result"
    }
   ],
   "source": [
    "22%3.0"
   ]
  },
  {
   "cell_type": "code",
   "execution_count": 10,
   "metadata": {},
   "outputs": [
    {
     "name": "stdout",
     "output_type": "stream",
     "text": [
      "3\n",
      "5Hello\n",
      "8.559999999999999\n"
     ]
    }
   ],
   "source": [
    "# Converting float to int using .type()\n",
    "# This chops off the floating part\n",
    "print(int(3.14))\n",
    "\n",
    "# print(5+ \"Hello\") - ERROR\n",
    "\n",
    "print(str(5) + \"Hello\")\n",
    "\n",
    "# Implicit type conversion\n",
    "print(3 + 5.56)"
   ]
  },
  {
   "cell_type": "code",
   "execution_count": 11,
   "metadata": {},
   "outputs": [
    {
     "data": {
      "text/plain": [
       "True"
      ]
     },
     "execution_count": 11,
     "metadata": {},
     "output_type": "execute_result"
    }
   ],
   "source": [
    "# Equality and Inequality Operator\n",
    "# Behind the scene Python converts int to floating pointand then compares them \n",
    "5==5.0"
   ]
  },
  {
   "cell_type": "code",
   "execution_count": 12,
   "metadata": {},
   "outputs": [
    {
     "name": "stdout",
     "output_type": "stream",
     "text": [
      "False\n",
      "True\n"
     ]
    }
   ],
   "source": [
    "print(5==\"5\")\n",
    "\n",
    "print(\"music\" != \"Music\")"
   ]
  },
  {
   "cell_type": "code",
   "execution_count": 13,
   "metadata": {},
   "outputs": [
    {
     "data": {
      "text/plain": [
       "True"
      ]
     },
     "execution_count": 13,
     "metadata": {},
     "output_type": "execute_result"
    }
   ],
   "source": [
    "True==True"
   ]
  },
  {
   "cell_type": "code",
   "execution_count": 14,
   "metadata": {},
   "outputs": [
    {
     "data": {
      "text/plain": [
       "False"
      ]
     },
     "execution_count": 14,
     "metadata": {},
     "output_type": "execute_result"
    }
   ],
   "source": [
    "\"ham\" == \"Ham\""
   ]
  },
  {
   "cell_type": "code",
   "execution_count": 15,
   "metadata": {},
   "outputs": [
    {
     "data": {
      "text/plain": [
       "True"
      ]
     },
     "execution_count": 15,
     "metadata": {},
     "output_type": "execute_result"
    }
   ],
   "source": [
    "\"\"==\"\""
   ]
  },
  {
   "cell_type": "code",
   "execution_count": 16,
   "metadata": {},
   "outputs": [
    {
     "name": "stdout",
     "output_type": "stream",
     "text": [
      "True\n",
      "False\n"
     ]
    }
   ],
   "source": [
    "# Expression returns TRUE when all comparisons are True\n",
    "print(5 < 8 <= 10)\n",
    "print(5 >6 < 7)"
   ]
  },
  {
   "cell_type": "markdown",
   "metadata": {},
   "source": [
    "PEMDAS : \n",
    "Parenthesis -->\n",
    "Exponential -->\n",
    "Multiply-->\n",
    "Division--> Addition-->\n",
    "Subtraction"
   ]
  },
  {
   "cell_type": "code",
   "execution_count": 17,
   "metadata": {},
   "outputs": [
    {
     "data": {
      "text/plain": [
       "1000"
      ]
     },
     "execution_count": 17,
     "metadata": {},
     "output_type": "execute_result"
    }
   ],
   "source": [
    "#Exponent Operator\n",
    "a=10\n",
    "a**3"
   ]
  },
  {
   "cell_type": "code",
   "execution_count": 18,
   "metadata": {},
   "outputs": [
    {
     "data": {
      "text/plain": [
       "3"
      ]
     },
     "execution_count": 18,
     "metadata": {},
     "output_type": "execute_result"
    }
   ],
   "source": [
    "#Remainder or Modulus Operator\n",
    "a=13\n",
    "b=5\n",
    "a%b"
   ]
  },
  {
   "cell_type": "code",
   "execution_count": 19,
   "metadata": {},
   "outputs": [
    {
     "name": "stdout",
     "output_type": "stream",
     "text": [
      "7.0\n"
     ]
    }
   ],
   "source": [
    "a= 3*3+3/3-3 #9+1-3\n",
    "print(a)"
   ]
  },
  {
   "cell_type": "code",
   "execution_count": 20,
   "metadata": {},
   "outputs": [
    {
     "name": "stdout",
     "output_type": "stream",
     "text": [
      "3.0\n"
     ]
    }
   ],
   "source": [
    "a= 3*(3+3)/3-3 #3*6/3-3 #18/3-3\n",
    "print(a)"
   ]
  },
  {
   "cell_type": "code",
   "execution_count": 21,
   "metadata": {},
   "outputs": [
    {
     "name": "stdout",
     "output_type": "stream",
     "text": [
      "True\n",
      "False\n"
     ]
    }
   ],
   "source": [
    "#Relational Operators\n",
    "a=10\n",
    "b=5\n",
    "print(a!=b)\n",
    "print(a==b)"
   ]
  },
  {
   "cell_type": "code",
   "execution_count": 22,
   "metadata": {},
   "outputs": [
    {
     "name": "stdout",
     "output_type": "stream",
     "text": [
      "8\n",
      "20\n",
      "125\n"
     ]
    }
   ],
   "source": [
    "a=4\n",
    "a+=4\n",
    "\n",
    "b=10\n",
    "b*=2 # b=b*2\n",
    "\n",
    "c=5\n",
    "c**=3 #c=c*c*ca\n",
    "\n",
    "print(a)\n",
    "print(b)\n",
    "print(c)"
   ]
  },
  {
   "cell_type": "code",
   "execution_count": 23,
   "metadata": {},
   "outputs": [
    {
     "name": "stdout",
     "output_type": "stream",
     "text": [
      "True\n"
     ]
    }
   ],
   "source": [
    "a= 1\n",
    "b=2\n",
    "c=not(a>b) #not reverses the output\n",
    "print(c)"
   ]
  },
  {
   "cell_type": "code",
   "execution_count": 24,
   "metadata": {},
   "outputs": [
    {
     "name": "stdout",
     "output_type": "stream",
     "text": [
      "132820059532208\n",
      "132820059532208\n"
     ]
    }
   ],
   "source": [
    "a = \"Piyush\"\n",
    "b = \"Piyush\"\n",
    "print(id(a))\n",
    "print(id(b))"
   ]
  },
  {
   "cell_type": "code",
   "execution_count": 25,
   "metadata": {},
   "outputs": [
    {
     "name": "stdout",
     "output_type": "stream",
     "text": [
      "True\n",
      "132820059532208\n",
      "132820059532208\n"
     ]
    }
   ],
   "source": [
    "# Identity Operator\n",
    "# is Operator , is not Operator\n",
    "# To check if two variables are pointing to same location or not\n",
    "\n",
    "a = \"Piyush\"\n",
    "b = \"Piyush\"\n",
    "print(a is b)\n",
    "print(id(a))\n",
    "print(id(b))"
   ]
  },
  {
   "cell_type": "code",
   "execution_count": 26,
   "metadata": {},
   "outputs": [
    {
     "name": "stdout",
     "output_type": "stream",
     "text": [
      "False\n",
      "132820059532208\n",
      "132820059022640\n"
     ]
    }
   ],
   "source": [
    "a = \"Piyush\"\n",
    "b = \"Sharma\"\n",
    "print(a is b)\n",
    "print(id(a))\n",
    "print(id(b))"
   ]
  },
  {
   "cell_type": "code",
   "execution_count": 27,
   "metadata": {},
   "outputs": [
    {
     "name": "stdout",
     "output_type": "stream",
     "text": [
      "False\n",
      "132820059532208\n",
      "132820059532208\n"
     ]
    }
   ],
   "source": [
    "a = \"Piyush\"\n",
    "b = \"Piyush\"\n",
    "print(a is not b) #Weather pointing to different locations?\n",
    "print(id(a))\n",
    "print(id(b))"
   ]
  },
  {
   "cell_type": "code",
   "execution_count": 28,
   "metadata": {},
   "outputs": [
    {
     "name": "stdout",
     "output_type": "stream",
     "text": [
      "True\n",
      "132820059532208\n",
      "132820059030832\n"
     ]
    }
   ],
   "source": [
    "a = \"Piyush\"\n",
    "b = \"Sharma\"\n",
    "print(a is not b) \n",
    "print(id(a))\n",
    "print(id(b))"
   ]
  },
  {
   "cell_type": "code",
   "execution_count": 29,
   "metadata": {},
   "outputs": [
    {
     "name": "stdout",
     "output_type": "stream",
     "text": [
      "0\n",
      "7\n",
      "7\n"
     ]
    }
   ],
   "source": [
    "#Binary Operators / Bitwise AND(&), OR(|) , NOT(~), XOR(^)\n",
    "a=2   #0010\n",
    "b=5   #0101\n",
    "\n",
    "c=a&b #0000\n",
    "d=a|b #0111\n",
    "e=a^b #0111 1 if only one of the bits is 1, 0 if both are 0 or 1\n",
    "\n",
    "print(c)\n",
    "print(d)\n",
    "print(e)"
   ]
  },
  {
   "cell_type": "code",
   "execution_count": 30,
   "metadata": {},
   "outputs": [
    {
     "name": "stdout",
     "output_type": "stream",
     "text": [
      "40\n",
      "2\n"
     ]
    }
   ],
   "source": [
    "# Bitwise Leftshift and Rightshift operator\n",
    "a= 10 # 1010\n",
    "b = a<<2  # 101000 --> 40\n",
    "c = a>>2  # 10 --> 2\n",
    "\n",
    "print(b) \n",
    "print(c)"
   ]
  },
  {
   "cell_type": "code",
   "execution_count": 31,
   "metadata": {},
   "outputs": [
    {
     "data": {
      "text/plain": [
       "-5"
      ]
     },
     "execution_count": 31,
     "metadata": {},
     "output_type": "execute_result"
    }
   ],
   "source": [
    "-14//3"
   ]
  },
  {
   "cell_type": "code",
   "execution_count": null,
   "metadata": {},
   "outputs": [],
   "source": []
  },
  {
   "cell_type": "code",
   "execution_count": 32,
   "metadata": {},
   "outputs": [
    {
     "data": {
      "text/plain": [
       "1"
      ]
     },
     "execution_count": 32,
     "metadata": {},
     "output_type": "execute_result"
    }
   ],
   "source": [
    "22%3"
   ]
  },
  {
   "cell_type": "code",
   "execution_count": 33,
   "metadata": {},
   "outputs": [
    {
     "data": {
      "text/plain": [
       "0.3333333333333333"
      ]
     },
     "execution_count": 33,
     "metadata": {},
     "output_type": "execute_result"
    }
   ],
   "source": [
    "2/6"
   ]
  },
  {
   "cell_type": "code",
   "execution_count": 34,
   "metadata": {},
   "outputs": [
    {
     "data": {
      "text/plain": [
       "True"
      ]
     },
     "execution_count": 34,
     "metadata": {},
     "output_type": "execute_result"
    }
   ],
   "source": [
    "# Membership Operator\n",
    "# in and not in \n",
    "\"iy\" in \"Piyush\""
   ]
  },
  {
   "cell_type": "code",
   "execution_count": 35,
   "metadata": {},
   "outputs": [
    {
     "data": {
      "text/plain": [
       "True"
      ]
     },
     "execution_count": 35,
     "metadata": {},
     "output_type": "execute_result"
    }
   ],
   "source": [
    "3 not in [1,2,4,6,7]"
   ]
  },
  {
   "attachments": {},
   "cell_type": "markdown",
   "metadata": {},
   "source": [
    "# Control and Loop Statements"
   ]
  },
  {
   "cell_type": "code",
   "execution_count": 36,
   "metadata": {},
   "outputs": [
    {
     "name": "stdout",
     "output_type": "stream",
     "text": [
      "True\n",
      "False\n",
      "False\n",
      "True\n",
      "\n",
      "\n",
      "Hello\n",
      "Hola\n",
      "This is true\n",
      "World\n"
     ]
    }
   ],
   "source": [
    "# IF executes whenever expression evaluates to TRUE\n",
    "# To know which value will lead to TRUE/FALSE use the bool fn\n",
    "print(bool(\"Hello\"))\n",
    "print(bool(\"\"))\n",
    "print(bool(0))\n",
    "print(bool(-1))\n",
    "\n",
    "print('\\n')\n",
    "\n",
    "if True:\n",
    "    print(\"Hello\")\n",
    "\n",
    "if 3:\n",
    "    print(\"Hola\")\n",
    "\n",
    "if -1:\n",
    "    print(\"This is true\")\n",
    "\n",
    "if 0:\n",
    "    print(\"NO Print\")\n",
    "\n",
    "# Empty string evaluates to False\n",
    "if \"\":\n",
    "    print(\"No Print\")\n",
    "\n",
    "if \"Hello\":\n",
    "    print(\"World\")\n"
   ]
  },
  {
   "cell_type": "code",
   "execution_count": 37,
   "metadata": {},
   "outputs": [
    {
     "name": "stdout",
     "output_type": "stream",
     "text": [
      "Elibibile Voter\n"
     ]
    }
   ],
   "source": [
    "age = int(input(\"Enter Age\"))\n",
    "if age >18:\n",
    "    print (\"Elibibile Voter\")\n",
    "else:\n",
    "    print(\"Not Eligible\")"
   ]
  },
  {
   "cell_type": "code",
   "execution_count": 38,
   "metadata": {},
   "outputs": [
    {
     "name": "stdout",
     "output_type": "stream",
     "text": [
      "23 is the greatest among 12 and 18\n"
     ]
    }
   ],
   "source": [
    "# Checking largest number among 3 nos\n",
    " \n",
    "first_no = int(input(\"Enter 1st number:\"))\n",
    "second_no = int(input(\"Enter 2nd number:\"))\n",
    "third_no = int(input(\"Enter 3rd number:\"))\n",
    "\n",
    "if first_no>second_no and first_no>third_no:\n",
    "    print(f\"{first_no} is lrgest among {second_no} and {third_no}\")\n",
    "else:\n",
    "    if second_no>first_no and second_no>third_no:\n",
    "        print(f\"{second_no} is the greatest among {first_no} and {third_no}\")\n",
    "    else:\n",
    "        print(f\"{third_no} is the greatest of all\")\n"
   ]
  },
  {
   "cell_type": "code",
   "execution_count": 39,
   "metadata": {},
   "outputs": [
    {
     "name": "stdout",
     "output_type": "stream",
     "text": [
      "45 is the greatest of all\n"
     ]
    }
   ],
   "source": [
    "#Alternative code\n",
    "\n",
    "first_no = int(input(\"Enter 1st number:\"))\n",
    "second_no = int(input(\"Enter 2nd number:\"))\n",
    "third_no = int(input(\"Enter 3rd number:\"))\n",
    "\n",
    "if first_no>second_no and first_no>third_no:\n",
    "    print(f\"{first_no} is lrgest among {second_no} and {third_no}\")\n",
    "elif second_no>first_no and second_no>third_no:\n",
    "    print(f\"{second_no} is the greatest among {first_no} and {third_no}\")\n",
    "else:\n",
    "    print(f\"{third_no} is the greatest of all\")"
   ]
  },
  {
   "cell_type": "code",
   "execution_count": 40,
   "metadata": {},
   "outputs": [
    {
     "name": "stdout",
     "output_type": "stream",
     "text": [
      "1\n",
      "2\n",
      "3\n",
      "4\n",
      "5\n"
     ]
    }
   ],
   "source": [
    "# FOR statement\n",
    "for i in [1,2,3,4,5]:\n",
    "    print(i)"
   ]
  },
  {
   "cell_type": "code",
   "execution_count": 41,
   "metadata": {},
   "outputs": [
    {
     "name": "stdout",
     "output_type": "stream",
     "text": [
      "0\n",
      "1\n",
      "2\n",
      "3\n",
      "4\n",
      "5\n"
     ]
    }
   ],
   "source": [
    "# range fn # excludes end point\n",
    "for i in range(6):\n",
    "    print(i)"
   ]
  },
  {
   "cell_type": "code",
   "execution_count": 42,
   "metadata": {},
   "outputs": [
    {
     "name": "stdout",
     "output_type": "stream",
     "text": [
      "1\n",
      "3\n",
      "5\n",
      "7\n",
      "9\n"
     ]
    }
   ],
   "source": [
    "for i in range(1,11,2):\n",
    "    print(i)"
   ]
  },
  {
   "cell_type": "code",
   "execution_count": 43,
   "metadata": {},
   "outputs": [
    {
     "name": "stdout",
     "output_type": "stream",
     "text": [
      "0\n",
      "2\n",
      "4\n",
      "6\n",
      "8\n",
      "10\n"
     ]
    }
   ],
   "source": [
    "for i in range(0,11,2):\n",
    "    print(i)"
   ]
  },
  {
   "cell_type": "code",
   "execution_count": 44,
   "metadata": {},
   "outputs": [
    {
     "name": "stdout",
     "output_type": "stream",
     "text": [
      "5\n",
      "4\n",
      "3\n",
      "2\n",
      "1\n"
     ]
    }
   ],
   "source": [
    "# printing series backward \n",
    "for i in range(5,0,-1):\n",
    "    print(i)"
   ]
  },
  {
   "cell_type": "code",
   "execution_count": 45,
   "metadata": {},
   "outputs": [
    {
     "name": "stdout",
     "output_type": "stream",
     "text": [
      "2 4 6 8 10 "
     ]
    }
   ],
   "source": [
    "# printing horizontally\n",
    "# by default print parameters are set as : \n",
    "# sep='' and end='\\n'\n",
    "\n",
    "for i in range(2,11,2):\n",
    "    print(i, end =\" \")"
   ]
  },
  {
   "cell_type": "code",
   "execution_count": 46,
   "metadata": {},
   "outputs": [
    {
     "name": "stdout",
     "output_type": "stream",
     "text": [
      "2,4,6,8,10\n"
     ]
    }
   ],
   "source": [
    "# To remove trailing , at the end\n",
    "print(*range(2,11,2), sep =\",\")\n",
    "\n",
    "# Note : The * \"unpacks\" an iterable, so that each element is passed as a separate argument"
   ]
  },
  {
   "cell_type": "code",
   "execution_count": 47,
   "metadata": {},
   "outputs": [],
   "source": [
    "# PASS stmnt does nothing\n",
    "a=10\n",
    "b=5\n",
    "if a>b:\n",
    "    pass"
   ]
  },
  {
   "cell_type": "code",
   "execution_count": 48,
   "metadata": {},
   "outputs": [
    {
     "name": "stdout",
     "output_type": "stream",
     "text": [
      "5\n",
      "6\n",
      "7\n"
     ]
    }
   ],
   "source": [
    "# WHILE loop and BREAK statement\n",
    "a=5\n",
    "while a<=10:\n",
    "    print(a)\n",
    "    a+=1\n",
    "    if a==8:\n",
    "        break"
   ]
  },
  {
   "cell_type": "code",
   "execution_count": 49,
   "metadata": {},
   "outputs": [
    {
     "name": "stdout",
     "output_type": "stream",
     "text": [
      "0\n",
      "1\n",
      "2\n",
      "3\n",
      "4\n",
      "7\n",
      "8\n",
      "9\n"
     ]
    }
   ],
   "source": [
    "# CONTINUE statement skips some steps but continues the remaining loop execution\n",
    "for i in range(10):\n",
    "    if i in [5,6]:\n",
    "        continue\n",
    "    print(i)"
   ]
  },
  {
   "cell_type": "code",
   "execution_count": 50,
   "metadata": {},
   "outputs": [
    {
     "name": "stdout",
     "output_type": "stream",
     "text": [
      "0\n",
      "1\n",
      "2\n",
      "3\n",
      "4\n"
     ]
    }
   ],
   "source": [
    "# BREAK completely moves out of loop execution\n",
    "for i in range(10):\n",
    "    if i in [5,6]:\n",
    "        break\n",
    "    print(i)"
   ]
  },
  {
   "cell_type": "code",
   "execution_count": null,
   "metadata": {},
   "outputs": [],
   "source": []
  },
  {
   "attachments": {},
   "cell_type": "markdown",
   "metadata": {},
   "source": [
    "# STRING METHODS\n",
    "Strings are immutable i.e name = \"abc | name[0] ='x' wont work\n",
    "\n",
    "\n",
    "- Upper( )\n",
    "- Lower( )\n",
    "- Capitalize( )\n",
    "- Title( )\n",
    "- Swapcase( )\n",
    "- strip( ), lstrip( ), rstrip( )\n",
    "- Replace( )\n",
    "- Startswith( , ) Endswith( , )\n",
    "- IN & NOT IN\n",
    "- Find and Count\n",
    "- Split( ) and Join( )\n",
    "- isalpha( ) and isalnum( )\n",
    "- format( )"
   ]
  },
  {
   "cell_type": "code",
   "execution_count": 51,
   "metadata": {},
   "outputs": [
    {
     "name": "stdout",
     "output_type": "stream",
     "text": [
      "Text to be printed Hello\n",
      "World\n",
      "Text to be printed  ** Hello\n",
      "\tWorld\n",
      "Text to be printed\n",
      "\tHello--World\n",
      "Text to be printed:\n",
      "\t--Hello--\n",
      "\t**World**"
     ]
    }
   ],
   "source": [
    "# By default print args are set as -->  sep='', end='\\n'\n",
    "# So we get output of next print fn in next line\n",
    "print(\"Text to be printed\", \"Hello\", sep=' ', end='\\n')\n",
    "print(\"World\")\n",
    "\n",
    "print(\"Text to be printed\", \"Hello\", sep='  ** ', end='\\n\\t')\n",
    "print(\"World\")\n",
    "\n",
    "print(\"Text to be printed\", \"Hello\", sep='\\n\\t', end='--')\n",
    "print(\"World\")\n",
    "\n",
    "print(\"Text to be printed\", \"Hello\", sep=':\\n\\t--', end='--\\n\\t**')\n",
    "print(\"World\", end='**')"
   ]
  },
  {
   "cell_type": "code",
   "execution_count": 52,
   "metadata": {},
   "outputs": [
    {
     "data": {
      "text/plain": [
       "'ANALYST'"
      ]
     },
     "execution_count": 52,
     "metadata": {},
     "output_type": "execute_result"
    }
   ],
   "source": [
    "profession = \"Analyst\"\n",
    "profession.upper()"
   ]
  },
  {
   "cell_type": "code",
   "execution_count": 53,
   "metadata": {},
   "outputs": [
    {
     "data": {
      "text/plain": [
       "'aNALYST'"
      ]
     },
     "execution_count": 53,
     "metadata": {},
     "output_type": "execute_result"
    }
   ],
   "source": [
    "profession.swapcase()"
   ]
  },
  {
   "attachments": {},
   "cell_type": "markdown",
   "metadata": {},
   "source": [
    "Strings are immutable objects i.e if you change it then python will create a new object\n",
    "\n",
    "Even after calling methods on them the original objects remains unchanged"
   ]
  },
  {
   "cell_type": "code",
   "execution_count": 54,
   "metadata": {},
   "outputs": [
    {
     "data": {
      "text/plain": [
       "'Analyst'"
      ]
     },
     "execution_count": 54,
     "metadata": {},
     "output_type": "execute_result"
    }
   ],
   "source": [
    "profession"
   ]
  },
  {
   "cell_type": "code",
   "execution_count": 55,
   "metadata": {},
   "outputs": [
    {
     "data": {
      "text/plain": [
       "'Piyush sharma'"
      ]
     },
     "execution_count": 55,
     "metadata": {},
     "output_type": "execute_result"
    }
   ],
   "source": [
    "\"piyush sharma\".capitalize()\n",
    "# Only 1st char will be in capital"
   ]
  },
  {
   "cell_type": "code",
   "execution_count": 56,
   "metadata": {},
   "outputs": [
    {
     "data": {
      "text/plain": [
       "'Piyush Sharma'"
      ]
     },
     "execution_count": 56,
     "metadata": {},
     "output_type": "execute_result"
    }
   ],
   "source": [
    "\"piyush sharma\".title()"
   ]
  },
  {
   "cell_type": "code",
   "execution_count": 57,
   "metadata": {},
   "outputs": [
    {
     "data": {
      "text/plain": [
       "'Piyush     '"
      ]
     },
     "execution_count": 57,
     "metadata": {},
     "output_type": "execute_result"
    }
   ],
   "source": [
    "# Removing leading and trailing whitespaces\n",
    "name = \"    Piyush     \"\n",
    "name.lstrip()"
   ]
  },
  {
   "cell_type": "code",
   "execution_count": 58,
   "metadata": {},
   "outputs": [
    {
     "data": {
      "text/plain": [
       "'Piyush'"
      ]
     },
     "execution_count": 58,
     "metadata": {},
     "output_type": "execute_result"
    }
   ],
   "source": [
    "name.strip()"
   ]
  },
  {
   "cell_type": "code",
   "execution_count": 59,
   "metadata": {},
   "outputs": [
    {
     "data": {
      "text/plain": [
       "'Piyush     Sharma    '"
      ]
     },
     "execution_count": 59,
     "metadata": {},
     "output_type": "execute_result"
    }
   ],
   "source": [
    "name = \"   Piyush     Sharma    \"\n",
    "name.lstrip()"
   ]
  },
  {
   "cell_type": "code",
   "execution_count": 60,
   "metadata": {},
   "outputs": [
    {
     "data": {
      "text/plain": [
       "'   Piyush     Sharma'"
      ]
     },
     "execution_count": 60,
     "metadata": {},
     "output_type": "execute_result"
    }
   ],
   "source": [
    "name.rstrip()"
   ]
  },
  {
   "cell_type": "code",
   "execution_count": 61,
   "metadata": {},
   "outputs": [
    {
     "data": {
      "text/plain": [
       "'Piyush     Sharma'"
      ]
     },
     "execution_count": 61,
     "metadata": {},
     "output_type": "execute_result"
    }
   ],
   "source": [
    "name.strip()"
   ]
  },
  {
   "cell_type": "code",
   "execution_count": 62,
   "metadata": {},
   "outputs": [
    {
     "data": {
      "text/plain": [
       "'xnalyst'"
      ]
     },
     "execution_count": 62,
     "metadata": {},
     "output_type": "execute_result"
    }
   ],
   "source": [
    "# Replacing, case sensitive \n",
    "\n",
    "profession.replace(\"A\",\"x\")"
   ]
  },
  {
   "cell_type": "code",
   "execution_count": 63,
   "metadata": {},
   "outputs": [
    {
     "data": {
      "text/plain": [
       "'Piyus*     S*arma'"
      ]
     },
     "execution_count": 63,
     "metadata": {},
     "output_type": "execute_result"
    }
   ],
   "source": [
    "# Method Chaining\n",
    "name = \"   Piyush     Sharma    \"\n",
    "new_name = \"  \"\n",
    "name.strip().replace(\"h\",\"*\")"
   ]
  },
  {
   "cell_type": "code",
   "execution_count": 64,
   "metadata": {},
   "outputs": [
    {
     "name": "stdout",
     "output_type": "stream",
     "text": [
      "True\n",
      "False\n",
      "False\n",
      "True\n"
     ]
    }
   ],
   "source": [
    "print(name.istitle())\n",
    "print(name.islower())\n",
    "print(name.isspace())\n",
    "\n",
    "# Eg : to check someone has not filled an empty name in the form\n",
    "print(new_name.isspace())"
   ]
  },
  {
   "cell_type": "code",
   "execution_count": 65,
   "metadata": {},
   "outputs": [
    {
     "data": {
      "text/plain": [
       "False"
      ]
     },
     "execution_count": 65,
     "metadata": {},
     "output_type": "execute_result"
    }
   ],
   "source": [
    "# Checking sub strings within a string\n",
    "# Case Sensitive\n",
    "\n",
    "profession.startswith(\"a\")"
   ]
  },
  {
   "cell_type": "code",
   "execution_count": 66,
   "metadata": {},
   "outputs": [
    {
     "data": {
      "text/plain": [
       "True"
      ]
     },
     "execution_count": 66,
     "metadata": {},
     "output_type": "execute_result"
    }
   ],
   "source": [
    "profession.endswith(\"t\")"
   ]
  },
  {
   "cell_type": "code",
   "execution_count": 67,
   "metadata": {},
   "outputs": [
    {
     "data": {
      "text/plain": [
       "False"
      ]
     },
     "execution_count": 67,
     "metadata": {},
     "output_type": "execute_result"
    }
   ],
   "source": [
    "\"ana\" in profession"
   ]
  },
  {
   "cell_type": "code",
   "execution_count": 68,
   "metadata": {},
   "outputs": [
    {
     "data": {
      "text/plain": [
       "True"
      ]
     },
     "execution_count": 68,
     "metadata": {},
     "output_type": "execute_result"
    }
   ],
   "source": [
    "\"Ana\" in profession"
   ]
  },
  {
   "cell_type": "code",
   "execution_count": 69,
   "metadata": {},
   "outputs": [
    {
     "data": {
      "text/plain": [
       "True"
      ]
     },
     "execution_count": 69,
     "metadata": {},
     "output_type": "execute_result"
    }
   ],
   "source": [
    "\"ana\" not in profession"
   ]
  },
  {
   "cell_type": "code",
   "execution_count": 70,
   "metadata": {},
   "outputs": [
    {
     "name": "stdout",
     "output_type": "stream",
     "text": [
      "Albert Einstein\n",
      "9:00PM\n",
      "True\n",
      "Hello world\n"
     ]
    }
   ],
   "source": [
    "# Practice Exercise\n",
    "\n",
    "scientist = \"albert einstein\"\n",
    "proper_name = scientist.title()\n",
    "print (proper_name)\n",
    "\n",
    "wasteful_string = \"     9:00PM     \"\n",
    "unwasteful_string = wasteful_string.strip()\n",
    "print(unwasteful_string)\n",
    "\n",
    "party_attendees = \"Sharon, James, Ron, Blake\"\n",
    "is_attending = \"Ron\" in party_attendees\n",
    "print(is_attending)\n",
    "\n",
    "def cleanup(string):\n",
    "    return print(string.strip().capitalize())\n",
    "cleanup(\"   hello world  \")"
   ]
  },
  {
   "cell_type": "code",
   "execution_count": 71,
   "metadata": {},
   "outputs": [
    {
     "name": "stdout",
     "output_type": "stream",
     "text": [
      "Hello\n",
      "World\n",
      "Welcome to World\n",
      "Welcome to World\n"
     ]
    }
   ],
   "source": [
    "# NEW LINE\n",
    "print(\"Hello\\nWorld\")\n",
    "\n",
    "print(\"Welcome to\" + \" World\") # notice the space before W\n",
    "print(\"Welcome to\", \"World\")"
   ]
  },
  {
   "cell_type": "code",
   "execution_count": 72,
   "metadata": {},
   "outputs": [
    {
     "name": "stdout",
     "output_type": "stream",
     "text": [
      "2,4,6\n",
      "2 4 6,"
     ]
    }
   ],
   "source": [
    "a= 2\n",
    "b=4\n",
    "c=6\n",
    "print(a,b,c, sep=\",\")\n",
    "print(a,b,c, end=\",\")"
   ]
  },
  {
   "cell_type": "code",
   "execution_count": 73,
   "metadata": {},
   "outputs": [
    {
     "name": "stdout",
     "output_type": "stream",
     "text": [
      "\"Hello\"\n"
     ]
    }
   ],
   "source": [
    "# To print single quotes, use double quotes in print and vice versa\n",
    "print('\"Hello\"')"
   ]
  },
  {
   "cell_type": "code",
   "execution_count": 74,
   "metadata": {},
   "outputs": [
    {
     "name": "stdout",
     "output_type": "stream",
     "text": [
      "Hello\n",
      "Hello\n",
      "Hello\n"
     ]
    }
   ],
   "source": [
    "name = 'Hello'\n",
    "print(name[:])\n",
    "print(name[0:5])\n",
    "print(name[::])"
   ]
  },
  {
   "cell_type": "code",
   "execution_count": 75,
   "metadata": {},
   "outputs": [
    {
     "name": "stdout",
     "output_type": "stream",
     "text": [
      "Hello\n"
     ]
    }
   ],
   "source": [
    "# print(name[10])\n",
    "# Index Error : out of range\n",
    "print(name[0:10])"
   ]
  },
  {
   "cell_type": "code",
   "execution_count": 76,
   "metadata": {},
   "outputs": [
    {
     "name": "stdout",
     "output_type": "stream",
     "text": [
      "Josh Cohen\n"
     ]
    }
   ],
   "source": [
    "fname = 'Josh'\n",
    "lname = 'Cohen'\n",
    "print(fname ,lname)"
   ]
  },
  {
   "cell_type": "code",
   "execution_count": 77,
   "metadata": {},
   "outputs": [
    {
     "data": {
      "text/plain": [
       "False"
      ]
     },
     "execution_count": 77,
     "metadata": {},
     "output_type": "execute_result"
    }
   ],
   "source": [
    "name1= \"Sameer\"\n",
    "name2= \"Sohan\"\n",
    "name1>name2\n",
    "\n",
    "# When 1st character was equal it moves to comparing next one\n",
    "# o comes after a so it is greater\n"
   ]
  },
  {
   "cell_type": "code",
   "execution_count": 78,
   "metadata": {},
   "outputs": [
    {
     "name": "stdout",
     "output_type": "stream",
     "text": [
      "4\n",
      "-1\n",
      "12\n"
     ]
    }
   ],
   "source": [
    "# find() function\n",
    "string = \"How are you all?\"\n",
    "print(string.find(\"are\")) # returns the position of 1st occurence of matching string\n",
    "print(string.find(\"x\"))\n",
    "\n",
    "print(string .find('a',5)) # Find 'a' and start from index =5"
   ]
  },
  {
   "cell_type": "code",
   "execution_count": 79,
   "metadata": {},
   "outputs": [
    {
     "name": "stdout",
     "output_type": "stream",
     "text": [
      "?lla uoy era woH\n",
      "3\n"
     ]
    }
   ],
   "source": [
    "# STRING REVERSAL\n",
    "string = \"How are you all?\"\n",
    "print(string[::-1])\n",
    "\n",
    "print(string[::-1].find('a'))"
   ]
  },
  {
   "cell_type": "code",
   "execution_count": 80,
   "metadata": {},
   "outputs": [
    {
     "name": "stdout",
     "output_type": "stream",
     "text": [
      "-1\n",
      "6\n"
     ]
    }
   ],
   "source": [
    "string = \"How are you all?\"\n",
    "print(string.find('a',-1))\n",
    "print(string.find('e',5,50))"
   ]
  },
  {
   "cell_type": "code",
   "execution_count": 81,
   "metadata": {},
   "outputs": [
    {
     "name": "stdout",
     "output_type": "stream",
     "text": [
      "1\n"
     ]
    }
   ],
   "source": [
    "# No of occurences in a string\n",
    "print(string.count('a',5,20))"
   ]
  },
  {
   "cell_type": "code",
   "execution_count": 82,
   "metadata": {},
   "outputs": [
    {
     "name": "stdout",
     "output_type": "stream",
     "text": [
      "['How', 'are', 'you', 'all?']\n",
      "How\tare\tyou\tall?\n"
     ]
    }
   ],
   "source": [
    "# Creating a LIST based on a delimitter\n",
    "string = \"How are you all?\"\n",
    "wordlist = string.split(' ')\n",
    "print(wordlist)\n",
    "\n",
    "# Joining LIST elements to create a string\n",
    "print('\\t'.join(wordlist))\n",
    "# \\t generates escape sequence (tab)"
   ]
  },
  {
   "cell_type": "code",
   "execution_count": 83,
   "metadata": {},
   "outputs": [
    {
     "name": "stdout",
     "output_type": "stream",
     "text": [
      "False\n",
      "True\n"
     ]
    }
   ],
   "source": [
    "password = 'Hello123'\n",
    "print(password.isalpha())\n",
    "print(password.isalnum())"
   ]
  },
  {
   "cell_type": "code",
   "execution_count": 84,
   "metadata": {},
   "outputs": [
    {
     "name": "stdout",
     "output_type": "stream",
     "text": [
      "True\n",
      "False\n"
     ]
    }
   ],
   "source": [
    "# To check if string has only digits\n",
    "contact = '9786567765'\n",
    "print(contact.isdigit())\n",
    "\n",
    "contact = '12.4'\n",
    "print(contact.isdigit())"
   ]
  },
  {
   "attachments": {},
   "cell_type": "markdown",
   "metadata": {},
   "source": [
    "# format( ) Method"
   ]
  },
  {
   "cell_type": "code",
   "execution_count": 85,
   "metadata": {},
   "outputs": [
    {
     "name": "stdout",
     "output_type": "stream",
     "text": [
      "My name is Sam. I play guitar and I live in London.\n",
      "My name is Ron. I play drums and I live in NY.\n",
      "My name is Tim. I play flute and I live in Delhi.\n"
     ]
    }
   ],
   "source": [
    "# Relative Position\n",
    "string = \"My name is {}. I play {} and I live in {}.\"\n",
    "print(string.format(\"Sam\", \"guitar\", \"London\"))\n",
    "\n",
    "# Numeric Position\n",
    "string = \"My name is {0}. I play {2} and I live in {1}.\"\n",
    "print(string.format(\"Ron\", \"NY\", \"drums\"))\n",
    "\n",
    "# Keyword Arguments\n",
    "string = \"My name is {name}. I play {instrument} and I live in {city}.\"\n",
    "print(string.format(instrument = \"flute\", name = \"Tim\", city = \"Delhi\"))"
   ]
  },
  {
   "cell_type": "code",
   "execution_count": 86,
   "metadata": {},
   "outputs": [
    {
     "name": "stdout",
     "output_type": "stream",
     "text": [
      "My name is Piyush. I play BGMI and I live in ajmer.\n"
     ]
    }
   ],
   "source": [
    "name = input(\"Enter your name:\")\n",
    "instrument = input(\"What instrument do you play?\")\n",
    "city =  input(\"Where do you live?\")\n",
    "\n",
    "string = \"My name is {name}. I play {instrument} and I live in {city}.\"\n",
    "print(string.format(name = name, instrument = instrument, city = city))"
   ]
  },
  {
   "cell_type": "code",
   "execution_count": 87,
   "metadata": {},
   "outputs": [
    {
     "name": "stdout",
     "output_type": "stream",
     "text": [
      "My account no is: 0012345678912345\n",
      "   24\n",
      "24***\n",
      "#24##\n"
     ]
    }
   ],
   "source": [
    "# Lets say we want account no to be 16 digits\n",
    "account_no = 12345678912345 # 14 digits\n",
    "print(\"My account no is: {:016d}\".format(account_no))\n",
    "# This adds extra zeros before the start \n",
    "\n",
    "print(\"{:5d}\".format(24))\n",
    "# Adds 3 whitespaecs at start to make it 5 digit\n",
    "\n",
    "print(\"{:*<5d}\".format(24))\n",
    "# Adds *** at end \n",
    "\n",
    "# To add spaces or 0 or anything at end and start \n",
    "print(\"{:#^5d}\".format(24))"
   ]
  },
  {
   "cell_type": "code",
   "execution_count": 88,
   "metadata": {},
   "outputs": [
    {
     "name": "stdout",
     "output_type": "stream",
     "text": [
      "Account balance is: 123.454000\n",
      "Account balance is: 123.45\n",
      "Price variation is +3\n",
      "The numbers are 2 and 10.000000\n",
      "The value is : 81%\n"
     ]
    }
   ],
   "source": [
    "balance = 123.454\n",
    "print(\"Account balance is: {:f}\".format(balance))\n",
    "# Appends trailing zeroes to make float data consistent to 6 decimal point\n",
    "\n",
    "\n",
    "print(\"Account balance is: {:5.2f}\".format(balance))\n",
    "# 5 represents total digits and 2 represents no of decimal digits\n",
    "\n",
    "\n",
    "# To print +,- symbol before a number\n",
    "price_change = +3\n",
    "print(\"Price variation is {:+d}\".format(price_change))\n",
    "\n",
    "print('The numbers are {:d} and {:f}'.format(2, 10))\n",
    "\n",
    "print(\"The value is : {:.0%}\".format(0.8085))"
   ]
  },
  {
   "attachments": {},
   "cell_type": "markdown",
   "metadata": {},
   "source": [
    "# Printing Special Characters\n",
    "\n",
    "- print \\  '   \" "
   ]
  },
  {
   "cell_type": "code",
   "execution_count": 89,
   "metadata": {},
   "outputs": [
    {
     "name": "stdout",
     "output_type": "stream",
     "text": [
      "tell me \"What's your name?\" \n"
     ]
    }
   ],
   "source": [
    "# ERROR --> print(\"tell me \"What's your name?\" \") \n",
    "# Use TRIPLE QUOTES \"\"\"\"....\"\"\"\"  when string has single and double quotes\n",
    "print(\"\"\"tell me \"What's your name?\" \"\"\")"
   ]
  },
  {
   "cell_type": "code",
   "execution_count": 90,
   "metadata": {},
   "outputs": [],
   "source": [
    "# Raw String\n",
    "# print(r\"c:\\Users\\Downloads\\Piyush's_File\") --> ERROR\n",
    "\n",
    "# To print double quotes, use aboue method of Triple quotes"
   ]
  },
  {
   "attachments": {},
   "cell_type": "markdown",
   "metadata": {},
   "source": [
    "# FUNCTIONS"
   ]
  },
  {
   "cell_type": "code",
   "execution_count": 91,
   "metadata": {},
   "outputs": [
    {
     "name": "stdout",
     "output_type": "stream",
     "text": [
      "8\n",
      "None\n"
     ]
    }
   ],
   "source": [
    "def sum(a=0,b=0):\n",
    "    \"\"\" Function that adds two numbers\"\"\"\n",
    "    print(a+b)\n",
    "\n",
    "c = sum(3,5)\n",
    "print(c)"
   ]
  },
  {
   "cell_type": "code",
   "execution_count": 92,
   "metadata": {},
   "outputs": [
    {
     "data": {
      "text/plain": [
       "' Function that adds two numbers'"
      ]
     },
     "execution_count": 92,
     "metadata": {},
     "output_type": "execute_result"
    }
   ],
   "source": [
    "# a = 0,b = 0 specifies default values when no arguments are provided\n",
    "# return needed to store value in variable c\n",
    "# 1st line in TRIPLE QUOTES immediately after fn declaration is doc string\n",
    "sum.__doc__"
   ]
  },
  {
   "cell_type": "code",
   "execution_count": 93,
   "metadata": {},
   "outputs": [
    {
     "data": {
      "text/plain": [
       "'Return the number of items in a container.'"
      ]
     },
     "execution_count": 93,
     "metadata": {},
     "output_type": "execute_result"
    }
   ],
   "source": [
    "len.__doc__"
   ]
  },
  {
   "cell_type": "code",
   "execution_count": 94,
   "metadata": {},
   "outputs": [
    {
     "name": "stdout",
     "output_type": "stream",
     "text": [
      "0\n"
     ]
    }
   ],
   "source": [
    "sum()\n",
    "# uses default values of a,b"
   ]
  },
  {
   "attachments": {},
   "cell_type": "markdown",
   "metadata": {},
   "source": [
    "- NOTE : default value has to be last \n",
    "- a=0, b will not work\n",
    "- a, b =0 is fine"
   ]
  },
  {
   "cell_type": "code",
   "execution_count": 95,
   "metadata": {},
   "outputs": [
    {
     "name": "stdout",
     "output_type": "stream",
     "text": [
      "30 -10\n"
     ]
    }
   ],
   "source": [
    "# passing multiple args and multiple return values\n",
    "def sum_diff(a=0, b=0):\n",
    "    return a+b, a-b\n",
    "\n",
    "c,d = sum_diff(10,20)\n",
    "print(c,d)"
   ]
  },
  {
   "cell_type": "code",
   "execution_count": 96,
   "metadata": {},
   "outputs": [
    {
     "name": "stdout",
     "output_type": "stream",
     "text": [
      "Sum of 3 and 5 is 8\n",
      "Sum of 3 and 5.5 is 8.5\n",
      "Sum of 5 and 10 is 15\n"
     ]
    }
   ],
   "source": [
    "def add(a,b):\n",
    "    print(\"Sum of\",a, \"and\", b, \"is\", a+b)\n",
    "\n",
    "add(3,5)           # Positional argument\n",
    "add(a = 3, b= 5.5) # Keyword arguments # Can be pssed in any order\n",
    "add(b = 10, a = 5) # Mixing both types will require order"
   ]
  },
  {
   "attachments": {},
   "cell_type": "markdown",
   "metadata": {},
   "source": [
    "- Pass by Value and Pass by Reference"
   ]
  },
  {
   "cell_type": "code",
   "execution_count": 97,
   "metadata": {},
   "outputs": [
    {
     "name": "stdout",
     "output_type": "stream",
     "text": [
      "[1, 2, 3, 4, 5]\n",
      "[1, 2, 9, 4, 5]\n"
     ]
    }
   ],
   "source": [
    "def change_num(a):\n",
    "    a[2] = 9\n",
    "    return a \n",
    "\n",
    "\n",
    "lst = [1,2,3,4,5]\n",
    "print(lst)\n",
    "change_num(lst)\n",
    "print(lst)\n",
    "\n",
    "# list is passed as argument\n",
    "# pass by reference\n",
    "# original copy of list is passed which is mutated\n"
   ]
  },
  {
   "cell_type": "code",
   "execution_count": 98,
   "metadata": {},
   "outputs": [
    {
     "name": "stdout",
     "output_type": "stream",
     "text": [
      "10\n",
      "10\n"
     ]
    }
   ],
   "source": [
    "def change_num(a):\n",
    "    a = 9\n",
    "    return a\n",
    "\n",
    "\n",
    "l = 10\n",
    "print(l)\n",
    "change_num(l)\n",
    "print(l)\n",
    "\n",
    "# integer is passed\n",
    "# pass by value\n",
    "# we are creating a copy of value and that is geeting mutated but original is still intact"
   ]
  },
  {
   "attachments": {},
   "cell_type": "markdown",
   "metadata": {},
   "source": [
    "- Variable length parameters\n",
    "- Suppose we need t0 add 100 numbers, so we cant write 100 parameters"
   ]
  },
  {
   "cell_type": "code",
   "execution_count": 99,
   "metadata": {},
   "outputs": [
    {
     "data": {
      "text/plain": [
       "55"
      ]
     },
     "execution_count": 99,
     "metadata": {},
     "output_type": "execute_result"
    }
   ],
   "source": [
    "# Unpacking operator (*) can be used when you don’t know the number of arguments of your function\n",
    "def sum(*numbers):\n",
    "    sum = 0\n",
    "    for n in numbers:\n",
    "        sum+= n\n",
    "    return sum\n",
    "\n",
    "sum(1,2,3,4,5,6,7,8,9,10)"
   ]
  }
 ],
 "metadata": {
  "kernelspec": {
   "display_name": "Python 3 (ipykernel)",
   "language": "python",
   "name": "python3"
  },
  "language_info": {
   "codemirror_mode": {
    "name": "ipython",
    "version": 3
   },
   "file_extension": ".py",
   "mimetype": "text/x-python",
   "name": "python",
   "nbconvert_exporter": "python",
   "pygments_lexer": "ipython3",
   "version": "3.9.2"
  },
  "vscode": {
   "interpreter": {
    "hash": "916dbcbb3f70747c44a77c7bcd40155683ae19c65e1c03b4aa3499c5328201f1"
   }
  }
 },
 "nbformat": 4,
 "nbformat_minor": 2
}
